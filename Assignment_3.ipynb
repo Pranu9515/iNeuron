{
  "nbformat": 4,
  "nbformat_minor": 0,
  "metadata": {
    "colab": {
      "provenance": []
    },
    "kernelspec": {
      "name": "python3",
      "display_name": "Python 3"
    },
    "language_info": {
      "name": "python"
    }
  },
  "cells": [
    {
      "cell_type": "markdown",
      "source": [
        "\n",
        "\n",
        "\n",
        "14. What is the purpose of the try clause? What is the purpose of the except clause?\n",
        "\n"
      ],
      "metadata": {
        "id": "ydnuhgSbQ1DW"
      }
    },
    {
      "cell_type": "markdown",
      "source": [
        "#1.Why are functions advantageous to have in your programs?"
      ],
      "metadata": {
        "id": "nVjSTkjhRFGj"
      }
    },
    {
      "cell_type": "markdown",
      "source": [
        "With the help of functions we can avoid rewriting of code.We can call the same function any number of times.We can track a large python program easily when it is divided into multiple functions."
      ],
      "metadata": {
        "id": "dFyio-z8RPH4"
      }
    },
    {
      "cell_type": "markdown",
      "source": [
        "#2.When does the code in a function run: when it's specified or when it's called?"
      ],
      "metadata": {
        "id": "jB4_CYjqSEkO"
      }
    },
    {
      "cell_type": "markdown",
      "source": [
        "The function runs only when it is called."
      ],
      "metadata": {
        "id": "YFzv2cXeSEg7"
      }
    },
    {
      "cell_type": "markdown",
      "source": [
        "#3.What statement creates a function?"
      ],
      "metadata": {
        "id": "UFDOiVfBSEed"
      }
    },
    {
      "cell_type": "markdown",
      "source": [
        "Function starts with def keyword,followed by name of the function,followed by paranthesis which holds parameters and sometimes there may not be any parameters and ends with colon."
      ],
      "metadata": {
        "id": "FqGkvt_ASEcN"
      }
    },
    {
      "cell_type": "markdown",
      "source": [
        "#4.What is the difference between a function and a function call?"
      ],
      "metadata": {
        "id": "efSzBrKVSEZ7"
      }
    },
    {
      "cell_type": "markdown",
      "source": [
        "Function is a block of code that does particular operation and returns result.\n",
        "Function call is used to pass control to function."
      ],
      "metadata": {
        "id": "A6VveT03SEYD"
      }
    },
    {
      "cell_type": "markdown",
      "source": [
        "#5.How many global scopes are there in a Python program? How many local scopes?"
      ],
      "metadata": {
        "id": "MqBoqk98SEVC"
      }
    },
    {
      "cell_type": "markdown",
      "source": [
        "\n",
        "In Python, there is only one global scope per program, which means that all global variables and functions are defined in the same namespace.\n",
        "\n",
        "However, there can be multiple local scopes in a Python program. A local scope is created every time a function is called, and it is destroyed when the function returns. Within a local scope, variables and functions defined in that scope are only accessible within that function and cannot be accessed outside of it.\n",
        "\n",
        "It is also important to note that Python has a built-in scope called the \"built-in scope\" or \"built-in namespace\", which contains all of the built-in functions and variables of Python, such as print() and len(). This scope is always available and can be accessed from anywhere in the program.\n"
      ],
      "metadata": {
        "id": "Rzqk8WYNSENH"
      }
    },
    {
      "cell_type": "markdown",
      "source": [
        "#6. What happens to variables in a local scope when the function call returns?"
      ],
      "metadata": {
        "id": "GrMsnDVBSEJt"
      }
    },
    {
      "cell_type": "markdown",
      "source": [
        "\n",
        "When a function call returns, the local scope created by that function is destroyed, and all the variables defined in that scope are deleted. This means that any values stored in those variables are lost and cannot be accessed anymore.\n",
        "For example, consider the following Python function:"
      ],
      "metadata": {
        "id": "MB8niMfISDyh"
      }
    },
    {
      "cell_type": "code",
      "source": [
        "def my_function():\n",
        "    x = 10\n",
        "    y = 20\n",
        "    z = x + y\n",
        "    return z"
      ],
      "metadata": {
        "id": "qH8b4-jCx6zK"
      },
      "execution_count": null,
      "outputs": []
    },
    {
      "cell_type": "markdown",
      "source": [
        "When the function my_function() is called, a local scope is created, and three variables x, y, and z are defined within that scope. When the function returns, the local scope is destroyed, and the variables x, y, and z are deleted, along with their values."
      ],
      "metadata": {
        "id": "iwH6e6NSSDwF"
      }
    },
    {
      "cell_type": "markdown",
      "source": [
        "#7. What is the concept of a return value? Is it possible to have a return value in an expression?\n"
      ],
      "metadata": {
        "id": "XmEtgLBjyvPr"
      }
    },
    {
      "cell_type": "markdown",
      "source": [
        "The concept of a return value in programming refers to the value that a function \"returns\" after it has been called and executed. In Python, a return value is the value that is passed back from a function to the caller of that function.\n",
        "When a Python function is executed, it may perform some operations and computations, and it may produce a result. This result can be passed back to the caller of the function using the return statement. The return statement specifies the value that the function should return, and it immediately stops the execution of the function and passes control back to the caller."
      ],
      "metadata": {
        "id": "Xkoc7gmuSDuv"
      }
    },
    {
      "cell_type": "markdown",
      "source": [
        "#8. If a function does not have a return statement, what is the return value of a call to that function?"
      ],
      "metadata": {
        "id": "IcWaiDuASDtc"
      }
    },
    {
      "cell_type": "markdown",
      "source": [
        "\n",
        "If a Python function does not have a return statement, the return value of a call to that function is None"
      ],
      "metadata": {
        "id": "nTNVj8_dSDri"
      }
    },
    {
      "cell_type": "markdown",
      "source": [
        "#9. How do you make a function variable refer to the global variable?"
      ],
      "metadata": {
        "id": "u8HOM39BSDp1"
      }
    },
    {
      "cell_type": "markdown",
      "source": [
        "In Python, if you want to make a function variable refer to the global variable with the same name, you can use the global keyword within the function."
      ],
      "metadata": {
        "id": "2TR08MLmSDoF"
      }
    },
    {
      "cell_type": "markdown",
      "source": [
        "#10. What is the data type of None?"
      ],
      "metadata": {
        "id": "es-aKphmSDmz"
      }
    },
    {
      "cell_type": "markdown",
      "source": [
        "The data type of None is NoneType. It is the only value of this type and is considered a singleton object. This means that there is only one instance of the None object in memory, and any variable that is assigned the value None points to this same object."
      ],
      "metadata": {
        "id": "rH37Lk_RSDXO"
      }
    },
    {
      "cell_type": "markdown",
      "source": [
        "#11. What does the sentence import areallyourpetsnamederic do?\n"
      ],
      "metadata": {
        "id": "WEDS66mh0dxl"
      }
    },
    {
      "cell_type": "markdown",
      "source": [
        "In Python, the import statement is used to bring external modules or packages into your program's namespace, so that you can use their functions, classes, and variables in your code. When you import a module or package, Python searches for the corresponding file or directory in the system's search path and loads its contents into memory."
      ],
      "metadata": {
        "id": "ysF_u8hu0hhD"
      }
    },
    {
      "cell_type": "markdown",
      "source": [
        "#12. If you had a bacon() feature in a spam module, what would you call it after importing spam?"
      ],
      "metadata": {
        "id": "5DNRmDJa06xp"
      }
    },
    {
      "cell_type": "markdown",
      "source": [
        "If you have a bacon() function defined in a module named spam, you can call it after importing the spam module using the dot notation."
      ],
      "metadata": {
        "id": "b3Vtdw2L08nq"
      }
    },
    {
      "cell_type": "markdown",
      "source": [
        "#13. What can you do to save a programme from crashing if it encounters an error?"
      ],
      "metadata": {
        "id": "JSuy9UG11fQT"
      }
    },
    {
      "cell_type": "markdown",
      "source": [
        "Use try-except blocks: You can use try-except blocks to catch and handle exceptions that may occur in your code. Any code that may raise an exception can be placed inside a try block, and any corresponding exception handlers can be defined in the except block. This way, even if an exception occurs, the program will continue to execute instead of crashing.\n",
        "                    (or)\n",
        "Use input validation: You can validate user input or data before using it in your program to prevent any unexpected errors or exceptions. This can include checking for correct data types, ensuring that inputs are within expected ranges or limits, and handling any invalid inputs or errors gracefully."
      ],
      "metadata": {
        "id": "ii8j7DH51iTS"
      }
    },
    {
      "cell_type": "markdown",
      "source": [
        "\n",
        "#14. What is the purpose of the try clause? What is the purpose of the except clause?"
      ],
      "metadata": {
        "id": "jUoBM1gk1iRa"
      }
    },
    {
      "cell_type": "markdown",
      "source": [
        "The try and except clauses are used in Python to handle exceptions or errors that may occur during program execution.\n",
        "\n",
        "The try clause is used to enclose the code that may raise an exception. If an exception occurs inside the try block, the program control will immediately jump to the corresponding except block."
      ],
      "metadata": {
        "id": "IJYjvKPa2E4L"
      }
    }
  ]
}