{
  "nbformat": 4,
  "nbformat_minor": 0,
  "metadata": {
    "colab": {
      "provenance": []
    },
    "kernelspec": {
      "name": "python3",
      "display_name": "Python 3"
    },
    "language_info": {
      "name": "python"
    }
  },
  "cells": [
    {
      "cell_type": "markdown",
      "source": [
        "#1.What are the two values of the Boolean data type? How do you write them?"
      ],
      "metadata": {
        "id": "48zK5jbyljre"
      }
    },
    {
      "cell_type": "markdown",
      "source": [
        "True and False are the two values of boolean data type.True can be written as bool(1) and False can be written as bool(0)"
      ],
      "metadata": {
        "id": "4D7_mry-mNrr"
      }
    },
    {
      "cell_type": "markdown",
      "source": [
        "#2.What are the three different types of Boolean operators?"
      ],
      "metadata": {
        "id": "3onKwOo9mpv3"
      }
    },
    {
      "cell_type": "markdown",
      "source": [
        "and,or and not are three boolean operators"
      ],
      "metadata": {
        "id": "gRpeKytgmxtp"
      }
    },
    {
      "cell_type": "markdown",
      "source": [
        "#3. Make a list of each Boolean operator's truth tables (i.e. every possible combination of Boolean values for the operator and what it evaluate )."
      ],
      "metadata": {
        "id": "XCoRkqcgm396"
      }
    },
    {
      "cell_type": "markdown",
      "source": [
        "A|B|A and B\n",
        "- | - | -\n",
        "True|True|True\n",
        "True|False|False\n",
        "False|True|False\n",
        "False|False|False\n",
        "\n",
        "A|B|A or B\n",
        "- | - | -\n",
        "True|True|True\n",
        "True|False|True\n",
        "False|True|True\n",
        "False|False|False\n",
        "\n",
        "A|not A\n",
        "- | - \n",
        "True|False\n",
        "False|True\n",
        "\n"
      ],
      "metadata": {
        "id": "ITHTvVVGnO6r"
      }
    },
    {
      "cell_type": "markdown",
      "source": [
        "#4. What are the values of the following expressions?\n",
        "#(5 > 4) and (3 == 5)\n",
        "#not (5 > 4)\n",
        "#(5 > 4) or (3 == 5)\n",
        "#not ((5 > 4) or (3 == 5))\n",
        "#(True and True) and (True == False)\n",
        "#(not False) or (not True)"
      ],
      "metadata": {
        "id": "o9McApX9qEvc"
      }
    },
    {
      "cell_type": "code",
      "execution_count": 1,
      "metadata": {
        "colab": {
          "base_uri": "https://localhost:8080/"
        },
        "id": "Nq1I3t8wlicI",
        "outputId": "230c3484-2cae-4ef6-dfab-3823b572a489"
      },
      "outputs": [
        {
          "output_type": "execute_result",
          "data": {
            "text/plain": [
              "False"
            ]
          },
          "metadata": {},
          "execution_count": 1
        }
      ],
      "source": [
        "(5 > 4) and (3 == 5)#True and False-->False"
      ]
    },
    {
      "cell_type": "code",
      "source": [
        "not (5 > 4)#not(True)-->False"
      ],
      "metadata": {
        "colab": {
          "base_uri": "https://localhost:8080/"
        },
        "id": "DHCJ4T6_qh3T",
        "outputId": "14305af1-1ac2-4043-9c19-b45b733bbff1"
      },
      "execution_count": 2,
      "outputs": [
        {
          "output_type": "execute_result",
          "data": {
            "text/plain": [
              "False"
            ]
          },
          "metadata": {},
          "execution_count": 2
        }
      ]
    },
    {
      "cell_type": "code",
      "source": [
        "(5 > 4) or (3 == 5)#True or False-->True"
      ],
      "metadata": {
        "colab": {
          "base_uri": "https://localhost:8080/"
        },
        "id": "QW9hjLbEqo6S",
        "outputId": "3fa5e348-d702-46b8-ae20-cc956f13d930"
      },
      "execution_count": 3,
      "outputs": [
        {
          "output_type": "execute_result",
          "data": {
            "text/plain": [
              "True"
            ]
          },
          "metadata": {},
          "execution_count": 3
        }
      ]
    },
    {
      "cell_type": "code",
      "source": [
        "not ((5 > 4) or (3 == 5))#not(True or False)-->False"
      ],
      "metadata": {
        "colab": {
          "base_uri": "https://localhost:8080/"
        },
        "id": "4af6bs2CqzTw",
        "outputId": "acfabfa7-fc0d-4694-8927-8819c94bf145"
      },
      "execution_count": 4,
      "outputs": [
        {
          "output_type": "execute_result",
          "data": {
            "text/plain": [
              "False"
            ]
          },
          "metadata": {},
          "execution_count": 4
        }
      ]
    },
    {
      "cell_type": "code",
      "source": [
        "(True and True) and (True == False)#True and False-->False"
      ],
      "metadata": {
        "colab": {
          "base_uri": "https://localhost:8080/"
        },
        "id": "B2EUjgz6rBHe",
        "outputId": "c44b76e3-f5e3-4919-c026-f248954a7385"
      },
      "execution_count": 5,
      "outputs": [
        {
          "output_type": "execute_result",
          "data": {
            "text/plain": [
              "False"
            ]
          },
          "metadata": {},
          "execution_count": 5
        }
      ]
    },
    {
      "cell_type": "code",
      "source": [
        "(not False) or (not True)#True or False-->True"
      ],
      "metadata": {
        "colab": {
          "base_uri": "https://localhost:8080/"
        },
        "id": "43BC2TolrJG3",
        "outputId": "33f9864a-bf34-407b-c601-1526688363c8"
      },
      "execution_count": 6,
      "outputs": [
        {
          "output_type": "execute_result",
          "data": {
            "text/plain": [
              "True"
            ]
          },
          "metadata": {},
          "execution_count": 6
        }
      ]
    },
    {
      "cell_type": "markdown",
      "source": [
        "#5. What are the six comparison operators?"
      ],
      "metadata": {
        "id": "PTuFjIQurTbH"
      }
    },
    {
      "cell_type": "markdown",
      "source": [
        "<,>,>=,<=,==,!="
      ],
      "metadata": {
        "id": "c9ja--DUrfve"
      }
    },
    {
      "cell_type": "markdown",
      "source": [
        "#6. How do you tell the difference between the equal to and assignment operators?Describe a condition and when you would use one."
      ],
      "metadata": {
        "id": "YFVsptAPrrtL"
      }
    },
    {
      "cell_type": "markdown",
      "source": [
        "Assignment operator(=) is used to assign a value to a variable.Equal to(==) is used to check whether both operands are equal or not."
      ],
      "metadata": {
        "id": "v2-I8BTW-Mbl"
      }
    },
    {
      "cell_type": "code",
      "source": [
        "a=5#assignment operator(=)\n",
        "b=5"
      ],
      "metadata": {
        "id": "P__-DmPUreES"
      },
      "execution_count": 3,
      "outputs": []
    },
    {
      "cell_type": "code",
      "source": [
        "a==b#equal to(==) to check if a and b are equal or not and prints a boolean value"
      ],
      "metadata": {
        "colab": {
          "base_uri": "https://localhost:8080/"
        },
        "id": "t0oidzdm_G5p",
        "outputId": "c6998b8f-1c2e-4a9b-94db-a99d91bdf80d"
      },
      "execution_count": 4,
      "outputs": [
        {
          "output_type": "execute_result",
          "data": {
            "text/plain": [
              "True"
            ]
          },
          "metadata": {},
          "execution_count": 4
        }
      ]
    },
    {
      "cell_type": "markdown",
      "source": [
        "#7. Identify the three blocks in this code:\n",
        "spam = 0\n",
        "\n",
        "if spam == 10:\n",
        "\n",
        "print('eggs')\n",
        "\n",
        "if spam > 5:\n",
        "\n",
        "print('bacon')\n",
        "\n",
        "else:\n",
        "\n",
        "print('ham')\n",
        "\n",
        "print('spam')\n",
        "\n",
        "print('spam')"
      ],
      "metadata": {
        "id": "y_NRUSb__Ygu"
      }
    },
    {
      "cell_type": "code",
      "source": [
        "spam = 0\n",
        "if spam == 10:\n",
        "  print('eggs')#block1\n",
        "if spam > 5:\n",
        " print('bacon')#block2\n",
        "else:\n",
        " print('ham')#block3\n",
        " print('spam')#block3\n",
        " print('spam')#block3"
      ],
      "metadata": {
        "colab": {
          "base_uri": "https://localhost:8080/"
        },
        "id": "w1hQGI08_Utm",
        "outputId": "424d8d25-0b06-4b6b-fc40-ff83b68f4162"
      },
      "execution_count": 5,
      "outputs": [
        {
          "output_type": "stream",
          "name": "stdout",
          "text": [
            "ham\n",
            "spam\n",
            "spam\n"
          ]
        }
      ]
    },
    {
      "cell_type": "markdown",
      "source": [
        "#8. Write code that prints Hello if 1 is stored in spam, prints Howdy if 2 is stored in spam, and prints Greetings! if anything else is stored in spam."
      ],
      "metadata": {
        "id": "ZVpoxTxkAeld"
      }
    },
    {
      "cell_type": "code",
      "source": [
        "spam=0\n",
        "if spam==1:\n",
        "  print('Hello')\n",
        "elif spam==2:\n",
        "  print('Howdy')\n",
        "else:\n",
        "  print('Greetings!')"
      ],
      "metadata": {
        "colab": {
          "base_uri": "https://localhost:8080/"
        },
        "id": "k9ifCG2eAatc",
        "outputId": "7b1255a6-7aa7-4f5d-a989-b122b3ef3779"
      },
      "execution_count": 12,
      "outputs": [
        {
          "output_type": "stream",
          "name": "stdout",
          "text": [
            "Greetings!\n"
          ]
        }
      ]
    },
    {
      "cell_type": "markdown",
      "source": [
        "#9.If your programme is stuck in an endless loop, what keys you’ll press?"
      ],
      "metadata": {
        "id": "DS9Iwc2uBNxj"
      }
    },
    {
      "cell_type": "markdown",
      "source": [
        "ctrl+c"
      ],
      "metadata": {
        "id": "i_s2hSNPB3-K"
      }
    },
    {
      "cell_type": "markdown",
      "source": [
        "#10.How can you tell the difference between break and continue?"
      ],
      "metadata": {
        "id": "aFQdO_fHB5cY"
      }
    },
    {
      "cell_type": "markdown",
      "source": [
        "Break is used to end the loop if the condition is met and continue is used to skip particular iteration of the loop."
      ],
      "metadata": {
        "id": "KltLNt8tB8Of"
      }
    },
    {
      "cell_type": "markdown",
      "source": [
        "#11. In a for loop, what is the difference between range(10), range(0, 10), and range(0, 10, 1)?"
      ],
      "metadata": {
        "id": "W8SPSq3QEfvS"
      }
    },
    {
      "cell_type": "markdown",
      "source": [
        "range(a) prints values from 0 to a-1\n",
        "\n",
        "range(10) prints values from 0 to 9\n",
        "\n",
        "range(a,b) prints values from a to b-1\n",
        "\n",
        "range(0,10) prints values from 0 to 9\n",
        "\n",
        "range(a,b,c) prints values from a to b-1 with c as step\n",
        "\n",
        "range(0,10,1) prints values from 0 to 9 with 1 as step"
      ],
      "metadata": {
        "id": "VTeHaLv2Em0w"
      }
    },
    {
      "cell_type": "markdown",
      "source": [
        "#12. Write a short program that prints the numbers 1 to 10 using a for loop. Then write an equivalent program that prints the numbers 1 to 10 using a while loop."
      ],
      "metadata": {
        "id": "zAhTRy_zF-Y9"
      }
    },
    {
      "cell_type": "code",
      "source": [
        "for i in range(1,11):\n",
        "  print(i)"
      ],
      "metadata": {
        "colab": {
          "base_uri": "https://localhost:8080/"
        },
        "id": "solpFoZhA72k",
        "outputId": "9b67ada9-decf-4626-fa95-7589c9b28c7a"
      },
      "execution_count": 14,
      "outputs": [
        {
          "output_type": "stream",
          "name": "stdout",
          "text": [
            "1\n",
            "2\n",
            "3\n",
            "4\n",
            "5\n",
            "6\n",
            "7\n",
            "8\n",
            "9\n",
            "10\n"
          ]
        }
      ]
    },
    {
      "cell_type": "code",
      "source": [
        "i=1\n",
        "while i<11:\n",
        "  print(i)\n",
        "  i+=1"
      ],
      "metadata": {
        "colab": {
          "base_uri": "https://localhost:8080/"
        },
        "id": "9fkXUVv9GIDL",
        "outputId": "b4707000-d1c7-4542-d01b-29f19277825b"
      },
      "execution_count": 25,
      "outputs": [
        {
          "output_type": "stream",
          "name": "stdout",
          "text": [
            "1\n",
            "2\n",
            "3\n",
            "4\n",
            "5\n",
            "6\n",
            "7\n",
            "8\n",
            "9\n",
            "10\n"
          ]
        }
      ]
    },
    {
      "cell_type": "markdown",
      "source": [
        "#13. If you had a function named bacon() inside a module named spam, how would you call it after importing spam?"
      ],
      "metadata": {
        "id": "bMc1M3M8I_Xz"
      }
    },
    {
      "cell_type": "markdown",
      "source": [
        "spam.bacon()"
      ],
      "metadata": {
        "id": "owdH_Yb3JMIJ"
      }
    },
    {
      "cell_type": "code",
      "source": [],
      "metadata": {
        "id": "j1wX-gKcIIfx"
      },
      "execution_count": null,
      "outputs": []
    }
  ]
}