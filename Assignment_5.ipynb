{
  "nbformat": 4,
  "nbformat_minor": 0,
  "metadata": {
    "colab": {
      "provenance": []
    },
    "kernelspec": {
      "name": "python3",
      "display_name": "Python 3"
    },
    "language_info": {
      "name": "python"
    }
  },
  "cells": [
    {
      "cell_type": "markdown",
      "source": [
        "#1. What does an empty dictionary&#39;s code look like?"
      ],
      "metadata": {
        "id": "3qfSHg4pEifl"
      }
    },
    {
      "cell_type": "markdown",
      "source": [
        "an empty dictionary can be created by simply using a pair of curly braces {}. "
      ],
      "metadata": {
        "id": "Ltz9CR-FEjvS"
      }
    },
    {
      "cell_type": "code",
      "source": [
        "my_dict = {}\n",
        "my_dict"
      ],
      "metadata": {
        "colab": {
          "base_uri": "https://localhost:8080/"
        },
        "id": "1obnzJFdE_sx",
        "outputId": "e2cfe717-5e37-4a73-dab4-92e4edfbf9c4"
      },
      "execution_count": null,
      "outputs": [
        {
          "output_type": "execute_result",
          "data": {
            "text/plain": [
              "{}"
            ]
          },
          "metadata": {},
          "execution_count": 3
        }
      ]
    },
    {
      "cell_type": "markdown",
      "source": [
        "#2. What is the value of a dictionary value with the key 'foo' and the value 42?"
      ],
      "metadata": {
        "id": "0TfdCpx0FGZz"
      }
    },
    {
      "cell_type": "markdown",
      "source": [
        "The value of a dictionary value with the key 'foo' and the value 42 would be 42."
      ],
      "metadata": {
        "id": "KpWL8AQEFeeB"
      }
    },
    {
      "cell_type": "code",
      "source": [
        "my_dict = {'foo': 42}\n",
        "my_dict['foo']"
      ],
      "metadata": {
        "colab": {
          "base_uri": "https://localhost:8080/"
        },
        "id": "ikkuIbKeFuAo",
        "outputId": "780d1895-f25f-48ba-9b2d-73c3ac4d2827"
      },
      "execution_count": null,
      "outputs": [
        {
          "output_type": "execute_result",
          "data": {
            "text/plain": [
              "42"
            ]
          },
          "metadata": {},
          "execution_count": 4
        }
      ]
    },
    {
      "cell_type": "markdown",
      "source": [
        "#3. What is the most significant distinction between a dictionary and a list?"
      ],
      "metadata": {
        "id": "tMceHEUMFx6J"
      }
    },
    {
      "cell_type": "markdown",
      "source": [
        "The most significant distinction between a dictionary and a list is how they store and retrieve data.\n",
        "\n",
        "A list is an ordered collection of elements that can be of any type and is indexed by integers starting from 0. You can add, remove, and access elements of a list by using their index.\n",
        "\n",
        "On the other hand, a dictionary is an unordered collection of key-value pairs. The keys must be unique and immutable, while the values can be of any type. You can add, remove, and access elements of a dictionary by using their keys."
      ],
      "metadata": {
        "id": "zVx2kOEyF-t9"
      }
    },
    {
      "cell_type": "markdown",
      "source": [
        "#4. What happens if you try to access spam[&#39;foo&#39;] if spam is {&#39;bar&#39;: 100}?"
      ],
      "metadata": {
        "id": "hWBy28VSGE04"
      }
    },
    {
      "cell_type": "markdown",
      "source": [
        "A KeyError is raised when you try to access a key in a dictionary that does not exist. In this case, since spam only has the key 'bar', trying to access the key 'foo' will result in a KeyError."
      ],
      "metadata": {
        "id": "vnJHGqrVGI4l"
      }
    },
    {
      "cell_type": "markdown",
      "source": [
        "#5. If a dictionary is stored in spam, what is the difference between the expressions &#39;cat&#39; in spam and &#39;cat&#39; in spam.keys()?"
      ],
      "metadata": {
        "id": "PRN7MTgDGW3-"
      }
    },
    {
      "cell_type": "code",
      "source": [
        "spam = {'cat': 'meow', 'dog': 'woof'}\n",
        "print('cat' in spam)  # True\n",
        "print('dog' in spam.keys())  # True"
      ],
      "metadata": {
        "colab": {
          "base_uri": "https://localhost:8080/"
        },
        "id": "R6wF7OiEHF-4",
        "outputId": "8c5206ca-82f2-4fb9-a15d-875c575a4b3a"
      },
      "execution_count": null,
      "outputs": [
        {
          "output_type": "stream",
          "name": "stdout",
          "text": [
            "True\n",
            "True\n"
          ]
        }
      ]
    },
    {
      "cell_type": "markdown",
      "source": [
        "There is no difference between the expressions 'cat' in spam and 'cat' in spam.keys() when spam is a dictionary.\n",
        "\n",
        "The in operator is used to check whether a key exists in a dictionary. When used directly on a dictionary, it checks for the presence of the key in the keys of the dictionary. Therefore, both 'cat' in spam and 'cat' in spam.keys() will return True if the key 'cat' is present in the dictionary spam and False otherwise."
      ],
      "metadata": {
        "id": "jJ3DVM_SGbmp"
      }
    },
    {
      "cell_type": "markdown",
      "source": [
        "#6. If a dictionary is stored in spam, what is the difference between the expressions &#39;cat&#39; in spam and &#39;cat&#39; in spam.values()?"
      ],
      "metadata": {
        "id": "s4BrtwGhHMHp"
      }
    },
    {
      "cell_type": "markdown",
      "source": [
        "The expressions 'cat' in spam and 'cat' in spam.values() are used to check whether the value 'cat' is present in the dictionary spam, but they are checking for different things.\n",
        "\n",
        "The expression 'cat' in spam checks whether the key 'cat' is present in the keys of the dictionary spam. If the key is present, the expression evaluates to True; otherwise, it evaluates to False.\n",
        "\n",
        "The expression 'cat' in spam.values() checks whether the value 'cat' is present in the values of the dictionary spam. If the value is present, the expression evaluates to True; otherwise, it evaluates to False."
      ],
      "metadata": {
        "id": "JMHlR9AOHd7F"
      }
    },
    {
      "cell_type": "code",
      "source": [
        "spam = {'cat': 'meow', 'dog': 'woof'}\n",
        "print('cat' in spam)  # True (checking for the key)\n",
        "print('meow' in spam.values())  # True (checking for the value)\n",
        "print('woof' in spam)  # False (checking for the key, not the value)"
      ],
      "metadata": {
        "colab": {
          "base_uri": "https://localhost:8080/"
        },
        "id": "pe-TBCkMHfmd",
        "outputId": "a8d098a8-099f-45ee-842c-85cfca573517"
      },
      "execution_count": null,
      "outputs": [
        {
          "output_type": "stream",
          "name": "stdout",
          "text": [
            "True\n",
            "True\n",
            "False\n"
          ]
        }
      ]
    },
    {
      "cell_type": "markdown",
      "source": [
        "#7. What is a shortcut for the following code?\n",
        "    if 'color' not in spam:\n",
        "        spam['color'] = &#39;black&#39;"
      ],
      "metadata": {
        "id": "LZKZSWImHkPE"
      }
    },
    {
      "cell_type": "markdown",
      "source": [
        "    spam.setdefault('color', 'black')\n",
        "\n",
        "The setdefault() method checks whether the given key exists in the dictionary. If the key is present, it returns the corresponding value; otherwise, it sets the key to the specified default value and returns that value.\n",
        "\n",
        "In this case, 'color' is the key, and 'black' is the default value. If the key 'color' is already present in the dictionary spam, the setdefault() method returns the corresponding value. Otherwise, it sets the key 'color' to the default value 'black' and returns it."
      ],
      "metadata": {
        "id": "UmOCBdLSIN7X"
      }
    },
    {
      "cell_type": "markdown",
      "source": [
        "#8. How do you &quot;pretty print&quot; dictionary values using which module and function?"
      ],
      "metadata": {
        "id": "Kv5Jap_1IYCM"
      }
    },
    {
      "cell_type": "markdown",
      "source": [
        "To \"pretty print\" dictionary values in Python, you can use the pprint module, which provides a function called pprint (short for \"pretty-print\")."
      ],
      "metadata": {
        "id": "DDWxc2I9IehK"
      }
    },
    {
      "cell_type": "code",
      "source": [
        "import pprint\n",
        "\n",
        "my_dict = {'name': 'Alice', 'age': 25, 'hobbies': ['reading', 'painting', 'hiking']}\n",
        "\n",
        "pprint.pprint(my_dict)"
      ],
      "metadata": {
        "colab": {
          "base_uri": "https://localhost:8080/"
        },
        "id": "f0hF-28TIweR",
        "outputId": "088c5cf7-f140-45d9-bc01-9776ee36fa13"
      },
      "execution_count": null,
      "outputs": [
        {
          "output_type": "stream",
          "name": "stdout",
          "text": [
            "{'age': 25, 'hobbies': ['reading', 'painting', 'hiking'], 'name': 'Alice'}\n"
          ]
        }
      ]
    }
  ]
}