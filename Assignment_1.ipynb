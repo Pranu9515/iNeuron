{
  "nbformat": 4,
  "nbformat_minor": 0,
  "metadata": {
    "colab": {
      "provenance": []
    },
    "kernelspec": {
      "name": "python3",
      "display_name": "Python 3"
    },
    "language_info": {
      "name": "python"
    }
  },
  "cells": [
    {
      "cell_type": "markdown",
      "source": [
        "#1. In the below elements which of them are values or an expression? eg:- values can be integer or string and expressions will be mathematical operators.\n",
        "\n",
        "#*\n",
        "\n",
        "#'hello'\n",
        "\n",
        "#-87.8\n",
        "\n",
        "#-\n",
        "\n",
        "#/\n",
        "\n",
        "#+\n",
        "\n",
        "#6"
      ],
      "metadata": {
        "id": "eU8326J4s21m"
      }
    },
    {
      "cell_type": "markdown",
      "source": [
        "values: 'hello' , -87.8 , 6\n",
        "\n",
        "expressions: * , - , / , +\n",
        "\n"
      ],
      "metadata": {
        "id": "-TjJtF15tSmQ"
      }
    },
    {
      "cell_type": "markdown",
      "source": [
        "#2. What is the difference between string and variable?"
      ],
      "metadata": {
        "id": "Iye_CxeptRY4"
      }
    },
    {
      "cell_type": "markdown",
      "source": [
        "Variable is an entity which holds data and String is sequence of characters which can be stored in a variable."
      ],
      "metadata": {
        "id": "GtNXXZuLuPJg"
      }
    },
    {
      "cell_type": "markdown",
      "source": [
        "#3. Describe three different data types."
      ],
      "metadata": {
        "id": "qFAzASkFuhxg"
      }
    },
    {
      "cell_type": "markdown",
      "source": [
        "int data type: used to hold whole numbers\n",
        "\n",
        "float data type: used to hold decimal numbers\n",
        "\n",
        "list data type: used to hold ordered sequence of elements."
      ],
      "metadata": {
        "id": "FMvoWv6zukCI"
      }
    },
    {
      "cell_type": "markdown",
      "source": [
        "#4. What is an expression made up of? What do all expressions do?"
      ],
      "metadata": {
        "id": "04ZqHnOdvVu1"
      }
    },
    {
      "cell_type": "markdown",
      "source": [
        "An expression is a combination of operators.These are used to produce some other value"
      ],
      "metadata": {
        "id": "uRQ01K5Xvpz-"
      }
    },
    {
      "cell_type": "markdown",
      "source": [
        "##5. This assignment statements, like spam = 10. What is the difference between an expression and a statement?"
      ],
      "metadata": {
        "id": "14KAAzPgxL3Y"
      }
    },
    {
      "cell_type": "markdown",
      "source": [
        "expressions produce a value while statements doesn't produce value"
      ],
      "metadata": {
        "id": "Ozvp27CzyuvE"
      }
    },
    {
      "cell_type": "markdown",
      "source": [
        "#6. After running the following code, what does the variable bacon contain?\n",
        "bacon = 22\n",
        "\n",
        "bacon + 1"
      ],
      "metadata": {
        "id": "79_6hGLNzAJN"
      }
    },
    {
      "cell_type": "code",
      "source": [
        "bacon = 22\n",
        "bacon + 1"
      ],
      "metadata": {
        "colab": {
          "base_uri": "https://localhost:8080/"
        },
        "id": "EYTIox1VxJg6",
        "outputId": "8b8b5bf7-a5b2-4460-8738-db2de5ab0e7b"
      },
      "execution_count": 4,
      "outputs": [
        {
          "output_type": "execute_result",
          "data": {
            "text/plain": [
              "23"
            ]
          },
          "metadata": {},
          "execution_count": 4
        }
      ]
    },
    {
      "cell_type": "code",
      "source": [
        "bacon"
      ],
      "metadata": {
        "colab": {
          "base_uri": "https://localhost:8080/"
        },
        "id": "LSbhZvCoy56g",
        "outputId": "f9b8117e-00bd-476a-f357-a1cde04763d8"
      },
      "execution_count": 5,
      "outputs": [
        {
          "output_type": "execute_result",
          "data": {
            "text/plain": [
              "22"
            ]
          },
          "metadata": {},
          "execution_count": 5
        }
      ]
    },
    {
      "cell_type": "markdown",
      "source": [
        "The variable bacon contains same value 22 even after running the code"
      ],
      "metadata": {
        "id": "zUpC4LQWzLL6"
      }
    },
    {
      "cell_type": "markdown",
      "source": [
        "#7. What should the values of the following two terms be?\n",
        "'spam' + 'spamspam'\n",
        "\n",
        "'spam' * 3"
      ],
      "metadata": {
        "id": "z3xx8X5YzV4e"
      }
    },
    {
      "cell_type": "code",
      "source": [
        "'spam' + 'spamspam'"
      ],
      "metadata": {
        "colab": {
          "base_uri": "https://localhost:8080/",
          "height": 36
        },
        "id": "J96tvGL4zIfz",
        "outputId": "d471cbe5-09a4-4446-d686-0d4577721ae5"
      },
      "execution_count": 9,
      "outputs": [
        {
          "output_type": "execute_result",
          "data": {
            "text/plain": [
              "'spamspamspam'"
            ],
            "application/vnd.google.colaboratory.intrinsic+json": {
              "type": "string"
            }
          },
          "metadata": {},
          "execution_count": 9
        }
      ]
    },
    {
      "cell_type": "code",
      "source": [
        "'spam'*3"
      ],
      "metadata": {
        "colab": {
          "base_uri": "https://localhost:8080/",
          "height": 36
        },
        "id": "b9LubPu9zoAg",
        "outputId": "4df4b598-2a52-4540-8054-4f4d7c8ae7da"
      },
      "execution_count": 8,
      "outputs": [
        {
          "output_type": "execute_result",
          "data": {
            "text/plain": [
              "'spamspamspam'"
            ],
            "application/vnd.google.colaboratory.intrinsic+json": {
              "type": "string"
            }
          },
          "metadata": {},
          "execution_count": 8
        }
      ]
    },
    {
      "cell_type": "markdown",
      "source": [
        "both gives same output 'spamspamspam'"
      ],
      "metadata": {
        "id": "XrQUzJx4zygF"
      }
    },
    {
      "cell_type": "markdown",
      "source": [
        "#8. Why is eggs a valid variable name while 100 is invalid?"
      ],
      "metadata": {
        "id": "2TixtRKez4Hd"
      }
    },
    {
      "cell_type": "code",
      "source": [
        "eggs=10"
      ],
      "metadata": {
        "id": "2Q2xVkVg0hLH"
      },
      "execution_count": 11,
      "outputs": []
    },
    {
      "cell_type": "code",
      "source": [
        "100='apple'"
      ],
      "metadata": {
        "colab": {
          "base_uri": "https://localhost:8080/",
          "height": 130
        },
        "id": "pvBEz40L0jpB",
        "outputId": "07d1ec0c-7912-42b4-b5be-1a10ecc50998"
      },
      "execution_count": 13,
      "outputs": [
        {
          "output_type": "error",
          "ename": "SyntaxError",
          "evalue": "ignored",
          "traceback": [
            "\u001b[0;36m  File \u001b[0;32m\"<ipython-input-13-33cf637b8966>\"\u001b[0;36m, line \u001b[0;32m1\u001b[0m\n\u001b[0;31m    100='apple'\u001b[0m\n\u001b[0m               ^\u001b[0m\n\u001b[0;31mSyntaxError\u001b[0m\u001b[0;31m:\u001b[0m can't assign to literal\n"
          ]
        }
      ]
    },
    {
      "cell_type": "markdown",
      "source": [
        "while naming a variable certain rules must be followed.\n",
        "variable name should not start with a number that is the reason why we get error for 100 while eggs is a valid variable name since it is not a keyword,it doesn't contain any special characters,and it doesn't start with a number"
      ],
      "metadata": {
        "id": "uI0OjSaaz7qp"
      }
    },
    {
      "cell_type": "markdown",
      "source": [
        "#9. What three functions can be used to get the integer, floating-point number, or string version of a value?"
      ],
      "metadata": {
        "id": "SuCZVZbi0rVM"
      }
    },
    {
      "cell_type": "code",
      "source": [
        "a=100.57"
      ],
      "metadata": {
        "id": "nfnaR0eSzvNg"
      },
      "execution_count": 14,
      "outputs": []
    },
    {
      "cell_type": "code",
      "source": [
        "int(a) #to get integer of a value"
      ],
      "metadata": {
        "colab": {
          "base_uri": "https://localhost:8080/"
        },
        "id": "uQP9QpbU0eVF",
        "outputId": "05bd156e-f329-4bed-f9b1-bb045834fe5d"
      },
      "execution_count": 15,
      "outputs": [
        {
          "output_type": "execute_result",
          "data": {
            "text/plain": [
              "100"
            ]
          },
          "metadata": {},
          "execution_count": 15
        }
      ]
    },
    {
      "cell_type": "code",
      "source": [
        "float(a) #to get floating-point number of a value"
      ],
      "metadata": {
        "colab": {
          "base_uri": "https://localhost:8080/"
        },
        "id": "9mIGCQdS0-SY",
        "outputId": "9f8e5b9a-58df-46ae-8621-9eb2b085122c"
      },
      "execution_count": 16,
      "outputs": [
        {
          "output_type": "execute_result",
          "data": {
            "text/plain": [
              "100.57"
            ]
          },
          "metadata": {},
          "execution_count": 16
        }
      ]
    },
    {
      "cell_type": "code",
      "source": [
        "str(a) #to get string version of a value"
      ],
      "metadata": {
        "colab": {
          "base_uri": "https://localhost:8080/",
          "height": 36
        },
        "id": "0eLt3nir1A6T",
        "outputId": "290825dc-87de-4ec9-9f3c-ec81cb35f76f"
      },
      "execution_count": 18,
      "outputs": [
        {
          "output_type": "execute_result",
          "data": {
            "text/plain": [
              "'100.57'"
            ],
            "application/vnd.google.colaboratory.intrinsic+json": {
              "type": "string"
            }
          },
          "metadata": {},
          "execution_count": 18
        }
      ]
    },
    {
      "cell_type": "markdown",
      "source": [
        "#10. Why does this expression cause an error? How can you fix it?\n",
        "#'I have eaten' + 99 + 'burritos.'"
      ],
      "metadata": {
        "id": "1ZnXOIOI1Ynr"
      }
    },
    {
      "cell_type": "code",
      "source": [
        "'I have eaten' + 99 + 'burritos.'"
      ],
      "metadata": {
        "colab": {
          "base_uri": "https://localhost:8080/",
          "height": 165
        },
        "id": "OP4HBnB21CrH",
        "outputId": "a1c0531a-27da-4152-f240-8027dc238750"
      },
      "execution_count": 19,
      "outputs": [
        {
          "output_type": "error",
          "ename": "TypeError",
          "evalue": "ignored",
          "traceback": [
            "\u001b[0;31m---------------------------------------------------------------------------\u001b[0m",
            "\u001b[0;31mTypeError\u001b[0m                                 Traceback (most recent call last)",
            "\u001b[0;32m<ipython-input-19-f5781a105d59>\u001b[0m in \u001b[0;36m<module>\u001b[0;34m\u001b[0m\n\u001b[0;32m----> 1\u001b[0;31m \u001b[0;34m'I have eaten'\u001b[0m \u001b[0;34m+\u001b[0m \u001b[0;36m99\u001b[0m \u001b[0;34m+\u001b[0m \u001b[0;34m'burritos.'\u001b[0m\u001b[0;34m\u001b[0m\u001b[0;34m\u001b[0m\u001b[0m\n\u001b[0m",
            "\u001b[0;31mTypeError\u001b[0m: can only concatenate str (not \"int\") to str"
          ]
        }
      ]
    },
    {
      "cell_type": "markdown",
      "source": [
        "we are getting error because we are trying to concatenate string with integer.To avoid this error we have to convert 99 to string"
      ],
      "metadata": {
        "id": "UJ1UR3VG1qMx"
      }
    },
    {
      "cell_type": "code",
      "source": [
        "'I have eaten ' + '99' + ' burritos.'"
      ],
      "metadata": {
        "colab": {
          "base_uri": "https://localhost:8080/",
          "height": 36
        },
        "id": "Jg9sJf8y1nI0",
        "outputId": "a87e65d3-84e3-44b9-aa69-8f2cc1144a21"
      },
      "execution_count": 21,
      "outputs": [
        {
          "output_type": "execute_result",
          "data": {
            "text/plain": [
              "'I have eaten 99 burritos.'"
            ],
            "application/vnd.google.colaboratory.intrinsic+json": {
              "type": "string"
            }
          },
          "metadata": {},
          "execution_count": 21
        }
      ]
    }
  ]
}