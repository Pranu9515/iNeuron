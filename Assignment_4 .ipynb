{
  "nbformat": 4,
  "nbformat_minor": 0,
  "metadata": {
    "colab": {
      "provenance": []
    },
    "kernelspec": {
      "name": "python3",
      "display_name": "Python 3"
    },
    "language_info": {
      "name": "python"
    }
  },
  "cells": [
    {
      "cell_type": "markdown",
      "source": [
        "17. How do you distinguish between copy.copy() and copy.deepcopy()?"
      ],
      "metadata": {
        "id": "cONasH953MEN"
      }
    },
    {
      "cell_type": "markdown",
      "source": [
        "#1. What exactly is [ ]?"
      ],
      "metadata": {
        "id": "q-Q49EYB3Syk"
      }
    },
    {
      "cell_type": "markdown",
      "source": [
        " [ ] is an empty list. It is a built-in data type that represents a collection of values that are ordered and changeable"
      ],
      "metadata": {
        "id": "MCNW48F-3Xm6"
      }
    },
    {
      "cell_type": "markdown",
      "source": [
        "#2. In a list of values stored in a variable called spam, how would you assign the value &#39;hello&#39; as the third value? (Assume [2, 4, 6, 8, 10] are in spam.)Let&#39;s pretend the spam includes the list [&#39;a&#39;, &#39;b&#39;, &#39;c&#39;, &#39;d&#39;] for the next three queries."
      ],
      "metadata": {
        "id": "NBaz2jQA31jS"
      }
    },
    {
      "cell_type": "markdown",
      "source": [
        "To assign the value 'hello' as the third value in a list stored in a variable called spam, you can use the indexing notation and assign the value to the third element (index 2) of the list:"
      ],
      "metadata": {
        "id": "SpsqD2j24JAa"
      }
    },
    {
      "cell_type": "code",
      "execution_count": 1,
      "metadata": {
        "colab": {
          "base_uri": "https://localhost:8080/"
        },
        "id": "E88I4b2i3Hx1",
        "outputId": "5b63835a-bf26-4a80-a208-43bf716f6381"
      },
      "outputs": [
        {
          "output_type": "stream",
          "name": "stdout",
          "text": [
            "[2, 4, 'hello', 8, 10]\n"
          ]
        }
      ],
      "source": [
        "spam = [2, 4, 6, 8, 10]\n",
        "spam[2] = 'hello'\n",
        "print(spam)"
      ]
    },
    {
      "cell_type": "markdown",
      "source": [
        "#3. What is the value of spam[int(int(&#39;3&#39; * 2) / 11)]?"
      ],
      "metadata": {
        "id": "tpo8jaBc4fJS"
      }
    },
    {
      "cell_type": "markdown",
      "source": [
        "The expression '3' * 2 evaluates to the string '33', and int('33') converts it to an integer 33. Then, int('33') / 11 performs a floating-point division and evaluates to 3.0.\n",
        "\n",
        "Since int(3.0) performs a type conversion from float to integer and rounds down to the nearest integer, the final expression spam[int(int('3' * 2) / 11)] is equivalent to spam[int(3.0)], which is the same as spam[3].\n",
        "\n",
        "Assuming that spam is a list of values, the expression spam[3] returns the fourth value in the list (remember that Python uses 0-based indexing).\n",
        "Therefore spam[int(int('3' * 2) / 11)]='d'"
      ],
      "metadata": {
        "id": "xFCfnO4V4l9S"
      }
    },
    {
      "cell_type": "markdown",
      "source": [
        "#4. What is the value of spam[-1]?"
      ],
      "metadata": {
        "id": "l-YGWy5n6EsT"
      }
    },
    {
      "cell_type": "markdown",
      "source": [
        "spam[-1]='d'"
      ],
      "metadata": {
        "id": "arE8KTSM6MMc"
      }
    },
    {
      "cell_type": "markdown",
      "source": [
        "#5. What is the value of spam[:2]?"
      ],
      "metadata": {
        "id": "9qYUNAhW6UiK"
      }
    },
    {
      "cell_type": "markdown",
      "source": [
        "['a', 'b', 'c']"
      ],
      "metadata": {
        "id": "EcwQC8V06XDR"
      }
    },
    {
      "cell_type": "markdown",
      "source": [
        "#Let&#39;s pretend bacon has the list [3.14, &#39;cat,&#39; 11, &#39;cat,&#39; True] for the next three questions.\n",
        "#6. What is the value of bacon.index(&#39;cat&#39;)?"
      ],
      "metadata": {
        "id": "YuXqAKmw6jiC"
      }
    },
    {
      "cell_type": "code",
      "source": [
        "bacon=[3.14,'cat', 11, 'cat', True]\n",
        "bacon.index('cat')"
      ],
      "metadata": {
        "colab": {
          "base_uri": "https://localhost:8080/"
        },
        "id": "krQ1Sl4Q7U4a",
        "outputId": "277a7c54-fc73-40b5-c1ac-0cc8cafadab3"
      },
      "execution_count": 4,
      "outputs": [
        {
          "output_type": "execute_result",
          "data": {
            "text/plain": [
              "1"
            ]
          },
          "metadata": {},
          "execution_count": 4
        }
      ]
    },
    {
      "cell_type": "markdown",
      "source": [
        "It gives the index of the element cat "
      ],
      "metadata": {
        "id": "aJtQMMBx72_p"
      }
    },
    {
      "cell_type": "markdown",
      "source": [
        "#7. How does bacon.append(99) change the look of the list value in bacon?"
      ],
      "metadata": {
        "id": "07nCf5P87NOJ"
      }
    },
    {
      "cell_type": "code",
      "source": [
        "bacon=[3.14,'cat', 11, 'cat', True]\n",
        "bacon.append(99)\n",
        "bacon"
      ],
      "metadata": {
        "colab": {
          "base_uri": "https://localhost:8080/"
        },
        "id": "plshT6z_7vDD",
        "outputId": "520f4023-0512-44c7-db8b-c1a1ed19c2bc"
      },
      "execution_count": 5,
      "outputs": [
        {
          "output_type": "execute_result",
          "data": {
            "text/plain": [
              "[3.14, 'cat', 11, 'cat', True, 99]"
            ]
          },
          "metadata": {},
          "execution_count": 5
        }
      ]
    },
    {
      "cell_type": "markdown",
      "source": [
        "append adds element to the end of list"
      ],
      "metadata": {
        "id": "BelaReHR7rKT"
      }
    },
    {
      "cell_type": "markdown",
      "source": [
        "#8. How does bacon.remove(&#39;cat&#39;) change the look of the list in bacon?"
      ],
      "metadata": {
        "id": "Z3zfNGcw8H4J"
      }
    },
    {
      "cell_type": "code",
      "source": [
        "bacon=[3.14,'cat', 11, 'cat', True]\n",
        "bacon.remove('cat')\n",
        "bacon"
      ],
      "metadata": {
        "colab": {
          "base_uri": "https://localhost:8080/"
        },
        "id": "bys29FdQ8SZ6",
        "outputId": "5ce09efa-00c5-4b71-9eb4-f8b708d368d1"
      },
      "execution_count": 6,
      "outputs": [
        {
          "output_type": "execute_result",
          "data": {
            "text/plain": [
              "[3.14, 11, 'cat', True]"
            ]
          },
          "metadata": {},
          "execution_count": 6
        }
      ]
    },
    {
      "cell_type": "markdown",
      "source": [
        "removes the first 'cat'"
      ],
      "metadata": {
        "id": "gxaar3vF8Rey"
      }
    },
    {
      "cell_type": "markdown",
      "source": [
        "\n",
        "#9. What are the list concatenation and list replication operators?"
      ],
      "metadata": {
        "id": "xvgodN3S8kmZ"
      }
    },
    {
      "cell_type": "markdown",
      "source": [
        "list concatenation operator is +, which combines two or more lists into a new list. The + operator creates a new list by appending the elements of the second list to the end of the first list.list replication operator is *, which creates a new list by replicating an existing list a specified number of times."
      ],
      "metadata": {
        "id": "Sw5ov-iA8spQ"
      }
    },
    {
      "cell_type": "markdown",
      "source": [
        "#10. What is difference between the list methods append() and insert()?"
      ],
      "metadata": {
        "id": "qkor1MYH8-bq"
      }
    },
    {
      "cell_type": "markdown",
      "source": [
        "In Python, the append() and insert() methods are used to add elements to a list, but they differ in where they add the new elements:\n",
        "\n",
        "The append() method adds an element to the end of a list. It takes one argument, which is the value to be added.The insert() method adds an element at a specified index in a list. It takes two arguments: the index at which to add the element, and the value to be added."
      ],
      "metadata": {
        "id": "J9FsZTsH9EFJ"
      }
    },
    {
      "cell_type": "markdown",
      "source": [
        "#11. What are the two methods for removing items from a list?"
      ],
      "metadata": {
        "id": "HBcuX0Cr9XNJ"
      }
    },
    {
      "cell_type": "markdown",
      "source": [
        "remove(): This method removes the first occurrence of a specified element from the list. It takes one argument, which is the value to be removed.\n",
        "pop(): This method removes and returns the element at a specified index in the list. If no index is specified, it removes and returns the last element in the list"
      ],
      "metadata": {
        "id": "G86eKxng9drT"
      }
    },
    {
      "cell_type": "markdown",
      "source": [
        "#12. Describe how list values and string values are identical."
      ],
      "metadata": {
        "id": "as1GYz_W_VV6"
      }
    },
    {
      "cell_type": "markdown",
      "source": [
        "Both lists and strings are sequences: they contain a collection of values that are ordered and indexed.\n",
        "Both lists and strings can be sliced: you can extract a portion of a list or string by specifying a range of indices.\n",
        "Both lists and strings can be iterated over: you can use a for loop to iterate over each element of a list or string."
      ],
      "metadata": {
        "id": "meFFvSuf_a9z"
      }
    },
    {
      "cell_type": "markdown",
      "source": [
        "#13. What&#39;s the difference between tuples and lists?"
      ],
      "metadata": {
        "id": "0VfRRGWxA25h"
      }
    },
    {
      "cell_type": "markdown",
      "source": [
        "Mutability: Lists are mutable, which means you can add, remove, or modify elements after the list has been created. Tuples, on the other hand, are immutable, which means you cannot add or remove elements, or modify the elements of a tuple once it has been created.\n",
        "Syntax: Lists are enclosed in square brackets [ ], while tuples are enclosed in parentheses ( ).\n",
        "In general, tuples are faster than lists, both in terms of creation time and iteration speed."
      ],
      "metadata": {
        "id": "jBH7fRqQA_pR"
      }
    },
    {
      "cell_type": "markdown",
      "source": [
        "#14. How do you type a tuple value that only contains the integer 42?"
      ],
      "metadata": {
        "id": "t1KVcH2zCAxg"
      }
    },
    {
      "cell_type": "markdown",
      "source": [
        "To create a tuple value that only contains the integer 42, you can use parentheses and separate the integer with a comma, like this:"
      ],
      "metadata": {
        "id": "9qkIKp2MChTY"
      }
    },
    {
      "cell_type": "code",
      "source": [
        "my_tuple = (42,)"
      ],
      "metadata": {
        "id": "FUl53vI18Ozf"
      },
      "execution_count": 7,
      "outputs": []
    },
    {
      "cell_type": "markdown",
      "source": [
        "The comma after the integer is important, since it tells Python that this is a tuple and not just an integer in parentheses. If you leave out the comma, Python will interpret the parentheses as regular parentheses and create an integer object instead of a tuple object."
      ],
      "metadata": {
        "id": "iwudkk_bCu2b"
      }
    },
    {
      "cell_type": "markdown",
      "source": [
        "#15. How do you get a list value&#39;s tuple form? How do you get a tuple value&#39;s list form?"
      ],
      "metadata": {
        "id": "q7avelkOCwsS"
      }
    },
    {
      "cell_type": "markdown",
      "source": [
        "To get a list value's tuple form, you can use the built-in tuple() function. For example:"
      ],
      "metadata": {
        "id": "rtmmhZqWC_Yi"
      }
    },
    {
      "cell_type": "code",
      "source": [
        "my_list = [1, 2, 3]\n",
        "my_tuple = tuple(my_list)\n",
        "print(my_tuple)"
      ],
      "metadata": {
        "colab": {
          "base_uri": "https://localhost:8080/"
        },
        "id": "x5l54-aTDJcw",
        "outputId": "0b7f5a56-8c0f-482f-c411-6ae5d0846ad9"
      },
      "execution_count": 8,
      "outputs": [
        {
          "output_type": "stream",
          "name": "stdout",
          "text": [
            "(1, 2, 3)\n"
          ]
        }
      ]
    },
    {
      "cell_type": "markdown",
      "source": [
        "To get a tuple value's list form, you can use the built-in list() function. For example:"
      ],
      "metadata": {
        "id": "0d_wZW6UDQqQ"
      }
    },
    {
      "cell_type": "code",
      "source": [
        "my_tuple = (1, 2, 3)\n",
        "my_list = list(my_tuple)\n",
        "print(my_list)"
      ],
      "metadata": {
        "colab": {
          "base_uri": "https://localhost:8080/"
        },
        "id": "87jef0HKDYab",
        "outputId": "e5e2276f-3366-40d5-ced8-f487a7993251"
      },
      "execution_count": 9,
      "outputs": [
        {
          "output_type": "stream",
          "name": "stdout",
          "text": [
            "[1, 2, 3]\n"
          ]
        }
      ]
    },
    {
      "cell_type": "markdown",
      "source": [
        "#16. Variables that &quot;contain&quot; list values are not necessarily lists themselves. Instead, what do they contain?"
      ],
      "metadata": {
        "id": "v6Jc7T9tDc0n"
      }
    },
    {
      "cell_type": "markdown",
      "source": [
        "In Python, variables that contain list values actually store references to list objects, not the lists themselves. This means that when you assign a list to a variable, the variable actually holds a reference to the memory location where the list object is stored. This is different from other data types like integers or strings, where the variable stores the actual value directly."
      ],
      "metadata": {
        "id": "PrDeYJp5ErPz"
      }
    },
    {
      "cell_type": "markdown",
      "source": [
        "#17. How do you distinguish between copy.copy() and copy.deepcopy()?"
      ],
      "metadata": {
        "id": "KZFm90NTEslZ"
      }
    },
    {
      "cell_type": "markdown",
      "source": [
        "The main difference between them is that copy.copy() creates a shallow copy of the object while copy.deepcopy() creates a deep copy of the object.\n",
        "\n",
        "A shallow copy creates a new object but references nested objects to the same location in memory as the original object. Changes to the original object may affect the copied object. On the other hand, a deep copy creates a new object and copies all nested objects to new locations in memory. Changes to the original object will not affect the copied object."
      ],
      "metadata": {
        "id": "DgwAr3fbDm7A"
      }
    }
  ]
}