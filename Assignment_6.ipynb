{
  "nbformat": 4,
  "nbformat_minor": 0,
  "metadata": {
    "colab": {
      "provenance": []
    },
    "kernelspec": {
      "name": "python3",
      "display_name": "Python 3"
    },
    "language_info": {
      "name": "python"
    }
  },
  "cells": [
    {
      "cell_type": "markdown",
      "source": [
        "#1. What are escape characters, and how do you use them?"
      ],
      "metadata": {
        "id": "pGwHjehoRkQT"
      }
    },
    {
      "cell_type": "markdown",
      "source": [
        "Escape characters are special characters that are used to represent characters that would be difficult or impossible to type directly into a string or character literal in programming.\n"
      ],
      "metadata": {
        "id": "Yrgd20AbRm4O"
      }
    },
    {
      "cell_type": "markdown",
      "source": [
        "#2. What do the escape characters n and t stand for?"
      ],
      "metadata": {
        "id": "1hWbS298R0rJ"
      }
    },
    {
      "cell_type": "markdown",
      "source": [
        "\\n is the escape character for a new line. It is used to insert a line break or start a new line in a string. For example, \"Hello\\nworld\" will print \"Hello\" and \"world\" on separate lines.\n",
        "\n",
        "\\t is the escape character for a horizontal tab. It is used to insert a horizontal tab or indentation in a string. For example, \"Hello\\tworld\" will print \"Hello\" and \"world\" with a horizontal tab between them."
      ],
      "metadata": {
        "id": "I0xvnD4jR4dS"
      }
    },
    {
      "cell_type": "markdown",
      "source": [
        "#3. What is the way to include backslash characters in a string?"
      ],
      "metadata": {
        "id": "CYFG2-e9SAfy"
      }
    },
    {
      "cell_type": "markdown",
      "source": [
        "In programming, the backslash () is a special character used to escape other special characters in a string. If you want to include a backslash character itself in a string, you need to escape it by using another backslash."
      ],
      "metadata": {
        "id": "s_BJFOI-SDLW"
      }
    },
    {
      "cell_type": "markdown",
      "source": [
        "#4. The string &quot;Howl&#39;s Moving Castle&quot; is a correct value. Why isn&#39;t the single quote character in the word Howl&#39;s not escaped a problem?"
      ],
      "metadata": {
        "id": "zwirtrmtSMr2"
      }
    },
    {
      "cell_type": "markdown",
      "source": [
        "In programming, single quotes ('...') and double quotes (\"...\") can both be used to delimit string literals. The string \"Howl's Moving Castle\" is a correct value because it is delimited by double quotes and contains a single quote character within the string.\n",
        "\n",
        "In programming, the use of double quotes to delimit a string literal allows single quote characters to appear within the string without the need to escape them. Conversely, if the string were delimited by single quotes, the single quote character within the string would need to be escaped using a backslash (')."
      ],
      "metadata": {
        "id": "7aRrj2w6SuUX"
      }
    },
    {
      "cell_type": "markdown",
      "source": [
        "#5. How do you write a string of newlines if you don&#39;t want to use the n character?"
      ],
      "metadata": {
        "id": "NkUO56EhSvmq"
      }
    },
    {
      "cell_type": "markdown",
      "source": [
        "you can use triple quotes to create a multiline string with newlines"
      ],
      "metadata": {
        "id": "ouyot63IS1Jo"
      }
    },
    {
      "cell_type": "code",
      "source": [
        "\"\"\"This is a string\n",
        "that spans multiple\n",
        "lines.\"\"\"\n"
      ],
      "metadata": {
        "colab": {
          "base_uri": "https://localhost:8080/",
          "height": 36
        },
        "id": "vrPtZONBTBWw",
        "outputId": "6023080f-e22f-4d82-8bdb-fbb04de29004"
      },
      "execution_count": 1,
      "outputs": [
        {
          "output_type": "execute_result",
          "data": {
            "text/plain": [
              "'This is a string\\nthat spans multiple\\nlines.'"
            ],
            "application/vnd.google.colaboratory.intrinsic+json": {
              "type": "string"
            }
          },
          "metadata": {},
          "execution_count": 1
        }
      ]
    },
    {
      "cell_type": "markdown",
      "source": [
        "\n",
        "#6. What are the values of the given expressions?\n",
        "&#39;Hello, world!&#39;[1]\n",
        "&#39;Hello, world!&#39;[0:5]\n",
        "&#39;Hello, world!&#39;[:5]\n",
        "&#39;Hello, world!&#39;[3:]"
      ],
      "metadata": {
        "id": "fVjyUSfvTSBB"
      }
    },
    {
      "cell_type": "code",
      "source": [
        "'Hello, world!'[1],'Hello, world!'[0:5], 'Hello, world!'[:5] ,'Hello, world!'[3:]"
      ],
      "metadata": {
        "colab": {
          "base_uri": "https://localhost:8080/"
        },
        "id": "OsnCQaa-Ta2V",
        "outputId": "4ffd8a4c-b024-4e49-b522-c046a5c9bc0d"
      },
      "execution_count": 3,
      "outputs": [
        {
          "output_type": "execute_result",
          "data": {
            "text/plain": [
              "('e', 'Hello', 'Hello', 'lo, world!')"
            ]
          },
          "metadata": {},
          "execution_count": 3
        }
      ]
    },
    {
      "cell_type": "markdown",
      "source": [
        "#7. What are the values of the following expressions?\n",
        "&#39;Hello&#39;.upper()\n",
        "&#39;Hello&#39;.upper().isupper()\n",
        "&#39;Hello&#39;.upper().lower()"
      ],
      "metadata": {
        "id": "VsaXp086Tld-"
      }
    },
    {
      "cell_type": "code",
      "source": [
        "'Hello'.upper(), 'Hello'.upper().isupper(), 'Hello'.upper().lower()"
      ],
      "metadata": {
        "colab": {
          "base_uri": "https://localhost:8080/"
        },
        "id": "FlSMGpu4T7iD",
        "outputId": "2b63a56c-977f-4809-8bc6-88baed41449e"
      },
      "execution_count": 4,
      "outputs": [
        {
          "output_type": "execute_result",
          "data": {
            "text/plain": [
              "('HELLO', True, 'hello')"
            ]
          },
          "metadata": {},
          "execution_count": 4
        }
      ]
    },
    {
      "cell_type": "markdown",
      "source": [
        "#8. What are the values of the following expressions?\n",
        "\n",
        "    'Remember, remember, the fifth of July.'.split()\n",
        "\n",
        "    '-'.join('There can only one.'.split())"
      ],
      "metadata": {
        "id": "r5w1F-ZZT5y6"
      }
    },
    {
      "cell_type": "code",
      "source": [
        "'Remember, remember, the fifth of July.'.split()"
      ],
      "metadata": {
        "colab": {
          "base_uri": "https://localhost:8080/"
        },
        "id": "eEM_bZgkUrvC",
        "outputId": "7e269e56-b62a-48da-a49a-932ccd3945ec"
      },
      "execution_count": 5,
      "outputs": [
        {
          "output_type": "execute_result",
          "data": {
            "text/plain": [
              "['Remember,', 'remember,', 'the', 'fifth', 'of', 'July.']"
            ]
          },
          "metadata": {},
          "execution_count": 5
        }
      ]
    },
    {
      "cell_type": "code",
      "source": [
        "'-'.join('There can only one.'.split())"
      ],
      "metadata": {
        "colab": {
          "base_uri": "https://localhost:8080/",
          "height": 36
        },
        "id": "Ymp1PjTRUuDU",
        "outputId": "1e01889c-19ac-4dda-e464-0e8907dca8d9"
      },
      "execution_count": 6,
      "outputs": [
        {
          "output_type": "execute_result",
          "data": {
            "text/plain": [
              "'There-can-only-one.'"
            ],
            "application/vnd.google.colaboratory.intrinsic+json": {
              "type": "string"
            }
          },
          "metadata": {},
          "execution_count": 6
        }
      ]
    },
    {
      "cell_type": "markdown",
      "source": [
        "#9. What are the methods for right-justifying, left-justifying, and centering a string?"
      ],
      "metadata": {
        "id": "sA6UuuRpUI6v"
      }
    },
    {
      "cell_type": "markdown",
      "source": [
        "Right-justifying a string: To right-justify a string, you can use the rjust() method in Python. This method returns a new string that is right-justified within a specified width by padding it with a specified character (default is a space) on the left."
      ],
      "metadata": {
        "id": "Hu3OYn2zU0_O"
      }
    },
    {
      "cell_type": "code",
      "source": [
        "text = \"Hello\"\n",
        "padded_text = text.rjust(10)  # pads with spaces on the left\n",
        "print(padded_text)  # outputs \"     Hello\""
      ],
      "metadata": {
        "colab": {
          "base_uri": "https://localhost:8080/"
        },
        "id": "622IcOAoVC6Z",
        "outputId": "55101ace-eba5-4ea4-903c-0f5a55198283"
      },
      "execution_count": 7,
      "outputs": [
        {
          "output_type": "stream",
          "name": "stdout",
          "text": [
            "     Hello\n"
          ]
        }
      ]
    },
    {
      "cell_type": "markdown",
      "source": [
        "Left-justifying a string: To left-justify a string, you can use the ljust() method in Python. This method returns a new string that is left-justified within a specified width by padding it with a specified character (default is a space) on the right."
      ],
      "metadata": {
        "id": "KmIZ_sMKVJSc"
      }
    },
    {
      "cell_type": "code",
      "source": [
        "text = \"Hello\"\n",
        "padded_text = text.ljust(10)  # pads with spaces on the right\n",
        "print(padded_text)  # outputs \"Hello     \""
      ],
      "metadata": {
        "colab": {
          "base_uri": "https://localhost:8080/"
        },
        "id": "Hkee46CZVLXI",
        "outputId": "52b794f9-f56f-45f1-b95c-ed7f15e5ebe0"
      },
      "execution_count": 8,
      "outputs": [
        {
          "output_type": "stream",
          "name": "stdout",
          "text": [
            "Hello     \n"
          ]
        }
      ]
    },
    {
      "cell_type": "markdown",
      "source": [
        "Centering a string: To center a string, you can use the center() method in Python. This method returns a new string that is centered within a specified width by padding it with a specified character (default is a space) on both sides."
      ],
      "metadata": {
        "id": "lCkP3ImpVO_D"
      }
    },
    {
      "cell_type": "code",
      "source": [
        "text = \"Hello\"\n",
        "padded_text = text.center(10)  # pads with spaces on both sides\n",
        "print(padded_text)  # outputs \"  Hello   \""
      ],
      "metadata": {
        "colab": {
          "base_uri": "https://localhost:8080/"
        },
        "id": "uY5j7a-jVTW2",
        "outputId": "33be365c-1f2a-40f0-a25e-293de2db222f"
      },
      "execution_count": 10,
      "outputs": [
        {
          "output_type": "stream",
          "name": "stdout",
          "text": [
            "  Hello   \n"
          ]
        }
      ]
    },
    {
      "cell_type": "markdown",
      "source": [
        "#10. What is the best way to remove whitespace characters from the start or end?"
      ],
      "metadata": {
        "id": "6YSeJABLVd_y"
      }
    },
    {
      "cell_type": "markdown",
      "source": [
        "The strip() method removes any leading or trailing whitespace characters, such as spaces, tabs, or newlines.\n",
        "\n",
        "Using the lstrip() and rstrip() methods: Some programming languages also provide lstrip() and rstrip() methods that remove whitespace characters from only the left or right side of the string, respectively."
      ],
      "metadata": {
        "id": "5ujMdpzwVe76"
      }
    },
    {
      "cell_type": "code",
      "source": [
        "text = \"  Hello World!  \"\n",
        "stripped_text = text.strip()\n",
        "print(stripped_text)  # Outputs: \"Hello World!\""
      ],
      "metadata": {
        "colab": {
          "base_uri": "https://localhost:8080/"
        },
        "id": "nCpTrqtoVrz5",
        "outputId": "ae4c0dc4-1f27-477d-e9f9-4548247d782d"
      },
      "execution_count": 11,
      "outputs": [
        {
          "output_type": "stream",
          "name": "stdout",
          "text": [
            "Hello World!\n"
          ]
        }
      ]
    },
    {
      "cell_type": "code",
      "source": [
        "text = \"  Hello World!  \"\n",
        "left_stripped_text = text.lstrip()\n",
        "right_stripped_text = text.rstrip()\n",
        "print(left_stripped_text)   # Outputs: \"Hello World!  \"\n",
        "print(right_stripped_text)  # Outputs: \"  Hello World!\""
      ],
      "metadata": {
        "colab": {
          "base_uri": "https://localhost:8080/"
        },
        "id": "Rgwj9mSoVuIG",
        "outputId": "3de1c585-7a42-43e0-9525-c9cb04cd37f4"
      },
      "execution_count": 12,
      "outputs": [
        {
          "output_type": "stream",
          "name": "stdout",
          "text": [
            "Hello World!  \n",
            "  Hello World!\n"
          ]
        }
      ]
    }
  ]
}